{
  "nbformat": 4,
  "nbformat_minor": 0,
  "metadata": {
    "colab": {
      "provenance": [],
      "authorship_tag": "ABX9TyOIQ94oXBKAsaTa2m/wBIgs",
      "include_colab_link": true
    },
    "kernelspec": {
      "name": "python3",
      "display_name": "Python 3"
    },
    "language_info": {
      "name": "python"
    }
  },
  "cells": [
    {
      "cell_type": "markdown",
      "metadata": {
        "id": "view-in-github",
        "colab_type": "text"
      },
      "source": [
        "<a href=\"https://colab.research.google.com/github/eunseochu/OB_1st/blob/main/%ED%95%B8%EC%A6%88%EC%98%A8_%EB%A8%B8%EC%8B%A0%EB%9F%AC%EB%8B%9D_%EB%B6%84%EB%A5%98.ipynb\" target=\"_parent\"><img src=\"https://colab.research.google.com/assets/colab-badge.svg\" alt=\"Open In Colab\"/></a>"
      ]
    },
    {
      "cell_type": "markdown",
      "source": [
        "# **CHAPTER 3: 분류**"
      ],
      "metadata": {
        "id": "UUFUmZzvD4wi"
      }
    },
    {
      "cell_type": "code",
      "source": [
        "# Python ≥3.5 is required\n",
        "import sys\n",
        "assert sys.version_info >= (3, 5)\n",
        "\n",
        "# Is this notebook running on Colab or Kaggle?\n",
        "IS_COLAB = \"google.colab\" in sys.modules\n",
        "IS_KAGGLE = \"kaggle_secrets\" in sys.modules\n",
        "\n",
        "# Scikit-Learn ≥0.20 is required\n",
        "import sklearn\n",
        "assert sklearn.__version__ >= \"0.20\"\n",
        "\n",
        "# Common imports\n",
        "import numpy as np\n",
        "import os\n",
        "\n",
        "# to make this notebook's output stable across runs\n",
        "np.random.seed(42)\n",
        "\n",
        "# To plot pretty figures\n",
        "%matplotlib inline\n",
        "import matplotlib as mpl\n",
        "import matplotlib.pyplot as plt\n",
        "mpl.rc('axes', labelsize=14)\n",
        "mpl.rc('xtick', labelsize=12)\n",
        "mpl.rc('ytick', labelsize=12)\n",
        "\n",
        "# Where to save the figures\n",
        "PROJECT_ROOT_DIR = \".\"\n",
        "CHAPTER_ID = \"classification\"\n",
        "IMAGES_PATH = os.path.join(PROJECT_ROOT_DIR, \"images\", CHAPTER_ID)\n",
        "os.makedirs(IMAGES_PATH, exist_ok=True)\n",
        "\n",
        "def save_fig(fig_id, tight_layout=True, fig_extension=\"png\", resolution=300):\n",
        "    path = os.path.join(IMAGES_PATH, fig_id + \".\" + fig_extension)\n",
        "    print(\"Saving figure\", fig_id)\n",
        "    if tight_layout:\n",
        "        plt.tight_layout()\n",
        "    plt.savefig(path, format=fig_extension, dpi=resolution)"
      ],
      "metadata": {
        "id": "AOWH9a3EGG_d"
      },
      "execution_count": 1,
      "outputs": []
    },
    {
      "cell_type": "markdown",
      "source": [
        "#### **3.1 MNIST**"
      ],
      "metadata": {
        "id": "6JMn68F5EBrU"
      }
    },
    {
      "cell_type": "markdown",
      "source": [
        "**1) MNIST 데이터셋 내려받기 <br/>**\n",
        "사이킷런에서 읽어 들인 데이터셋들은 일반적으로 비슷한 딕셔너리 구조를 가지고 있음\n",
        "- 데이터셋을 설명하는 DESCR키\n",
        "- 샘플이 하나의 행, 특성이 하나의 열로 구성된 배열을 가진 data키\n",
        "- 레이블 배열을 담은 target 키"
      ],
      "metadata": {
        "id": "ltHU7TbVEWWm"
      }
    },
    {
      "cell_type": "code",
      "execution_count": 2,
      "metadata": {
        "colab": {
          "base_uri": "https://localhost:8080/"
        },
        "id": "2bvOeSVQDWiZ",
        "outputId": "38256130-142b-4c35-d7f1-d8234a1568be"
      },
      "outputs": [
        {
          "output_type": "stream",
          "name": "stderr",
          "text": [
            "/usr/local/lib/python3.9/dist-packages/sklearn/datasets/_openml.py:932: FutureWarning: The default value of `parser` will change from `'liac-arff'` to `'auto'` in 1.4. You can set `parser='auto'` to silence this warning. Therefore, an `ImportError` will be raised from 1.4 if the dataset is dense and pandas is not installed. Note that the pandas parser may return different data types. See the Notes Section in fetch_openml's API doc for details.\n",
            "  warn(\n"
          ]
        },
        {
          "output_type": "execute_result",
          "data": {
            "text/plain": [
              "dict_keys(['data', 'target', 'frame', 'categories', 'feature_names', 'target_names', 'DESCR', 'details', 'url'])"
            ]
          },
          "metadata": {},
          "execution_count": 2
        }
      ],
      "source": [
        "from sklearn.datasets import fetch_openml\n",
        "mnist = fetch_openml('mnist_784', version=1, as_frame=False)\n",
        "mnist.keys()"
      ]
    },
    {
      "cell_type": "code",
      "source": [
        "X, y = mnist[\"data\"], mnist[\"target\"]\n",
        "X.shape"
      ],
      "metadata": {
        "colab": {
          "base_uri": "https://localhost:8080/"
        },
        "id": "QPXr-KOhFOLW",
        "outputId": "ea98e478-b159-4ef7-bd5b-a12986921887"
      },
      "execution_count": 3,
      "outputs": [
        {
          "output_type": "execute_result",
          "data": {
            "text/plain": [
              "(70000, 784)"
            ]
          },
          "metadata": {},
          "execution_count": 3
        }
      ]
    },
    {
      "cell_type": "markdown",
      "source": [
        "- 이미지가 70,000개 있고 각 이미지에는 784개의 특성이 있음 (28x28 픽셀)\n",
        "- 개개의 특성은 단순히 0(흰색)부터 255(검은색)까지의 픽셀 강도를 나타냄"
      ],
      "metadata": {
        "id": "FodDgyq8FfDp"
      }
    },
    {
      "cell_type": "markdown",
      "source": [
        "**2) 이미지 확인** <br/>\n",
        "샘플의 특성 벡터를 추출해서 28x28 배열로 크기를 바꾸고 맷플롯립의 imshow() 함수를 사용"
      ],
      "metadata": {
        "id": "Mz6wJfs6FpyF"
      }
    },
    {
      "cell_type": "code",
      "source": [
        "%matplotlib inline\n",
        "import matplotlib as mpl\n",
        "import matplotlib.pyplot as plt\n",
        "\n",
        "some_digit = X[0]\n",
        "some_digit_image = some_digit.reshape(28, 28)\n",
        "plt.imshow(some_digit_image, cmap=mpl.cm.binary)\n",
        "plt.axis(\"off\")\n",
        "\n",
        "save_fig(\"some_digit_plot\")\n",
        "plt.show()"
      ],
      "metadata": {
        "colab": {
          "base_uri": "https://localhost:8080/",
          "height": 315
        },
        "id": "TVUTy7SgFdja",
        "outputId": "0da7c5cf-1816-4248-a2c1-88c2b2050b7f"
      },
      "execution_count": 4,
      "outputs": [
        {
          "output_type": "stream",
          "name": "stdout",
          "text": [
            "Saving figure some_digit_plot\n"
          ]
        },
        {
          "output_type": "display_data",
          "data": {
            "text/plain": [
              "<Figure size 432x288 with 1 Axes>"
            ],
            "image/png": "[encoded data removed]"
          },
          "metadata": {
            "needs_background": "light"
          }
        }
      ]
    },
    {
      "cell_type": "markdown",
      "source": [
        "**2-1) 레이블 확인** <br/>\n",
        "숫자 5로 보이는 그림의 실제 레이블을 확인"
      ],
      "metadata": {
        "id": "9W-7uCpQGdba"
      }
    },
    {
      "cell_type": "code",
      "source": [
        "y[0]"
      ],
      "metadata": {
        "colab": {
          "base_uri": "https://localhost:8080/",
          "height": 36
        },
        "id": "Z4ywW0GEF2Xm",
        "outputId": "fa72db7c-670f-40d1-ea8d-5cb7d63734bb"
      },
      "execution_count": 5,
      "outputs": [
        {
          "output_type": "execute_result",
          "data": {
            "text/plain": [
              "'5'"
            ],
            "application/vnd.google.colaboratory.intrinsic+json": {
              "type": "string"
            }
          },
          "metadata": {},
          "execution_count": 5
        }
      ]
    },
    {
      "cell_type": "markdown",
      "source": [
        "**2-2) 정수 변환** <br/>\n",
        "대부분 머신러닝 알고리즘은 숫자를 기대하므로 y를 정수로 변환"
      ],
      "metadata": {
        "id": "_rEQMzl2GoYl"
      }
    },
    {
      "cell_type": "code",
      "source": [
        "y = y.astype(np.uint8)"
      ],
      "metadata": {
        "id": "-cKqE1SCGg9V"
      },
      "execution_count": 6,
      "outputs": []
    },
    {
      "cell_type": "markdown",
      "source": [
        "**2-3) 테스트 세트 분리** <br/>\n",
        "MNIST 데이터셋은 이미 훈련 세트와 테스트 세트로 나누어 놓았음\n",
        "- 훈련 세트는 이미 섞여 있으므로 모든 교차 검증 폴드를 비슷하게 만듦\n",
        "- 훈련 샘플 순서에 민감한 학습 알고리즘도 있기 때문에 성능이 나빠지는 문제를 방지할 수 있음"
      ],
      "metadata": {
        "id": "8IMlnJhHG19r"
      }
    },
    {
      "cell_type": "code",
      "source": [
        "X_train, X_test, y_train, y_test = X[:60000], X[60000:], y[:60000], y[60000:]"
      ],
      "metadata": {
        "id": "1Ol7RiVdGy1O"
      },
      "execution_count": 7,
      "outputs": []
    },
    {
      "cell_type": "markdown",
      "source": [
        "#### **3.2 이진 분류기 훈련** <br/>\n",
        "숫자 5만 식별하기 위해 '5'와 '5 아님' 두 개의 클래스를 구분할 수 있는 이진 분류기 생성"
      ],
      "metadata": {
        "id": "9wTtG3sbHZUJ"
      }
    },
    {
      "cell_type": "markdown",
      "source": [
        "**1) 분류 작업을 위한 타깃 벡터 생성**"
      ],
      "metadata": {
        "id": "9N9yiLgBHr3I"
      }
    },
    {
      "cell_type": "code",
      "source": [
        "y_train_5 = (y_train == 5)\n",
        "y_test_5 = (y_test == 5)"
      ],
      "metadata": {
        "id": "OmmpAQJcHUDE"
      },
      "execution_count": 8,
      "outputs": []
    },
    {
      "cell_type": "markdown",
      "source": [
        "**2) 분류 모델 선택 후 훈련** <br/>\n",
        "사이킷런의 SGDClassifier 클래스를 이용해 확률적 경사 하강법(SGD) 분류기로 시작\n",
        "- 매우 큰 데이터셋을 효율적으로 처리하는 장점을 지님\n",
        "- 한 번에 하나씩 훈련 샘플을 독립적으로 처리"
      ],
      "metadata": {
        "id": "XlMa2xq3H49Q"
      }
    },
    {
      "cell_type": "code",
      "source": [
        "from sklearn.linear_model import SGDClassifier\n",
        "\n",
        "sgd_clf = SGDClassifier(max_iter=1000, tol=1e-3, random_state=42)\n",
        "sgd_clf.fit(X_train, y_train_5)"
      ],
      "metadata": {
        "colab": {
          "base_uri": "https://localhost:8080/",
          "height": 74
        },
        "id": "fBT_ovWyH4O3",
        "outputId": "31e4e1c6-a9ba-46cf-e466-f6bf449836fa"
      },
      "execution_count": 9,
      "outputs": [
        {
          "output_type": "execute_result",
          "data": {
            "text/plain": [
              "SGDClassifier(random_state=42)"
            ],
            "text/html": [
              "<style>#sk-container-id-1 {color: black;background-color: white;}#sk-container-id-1 pre{padding: 0;}#sk-container-id-1 div.sk-toggleable {background-color: white;}#sk-container-id-1 label.sk-toggleable__label {cursor: pointer;display: block;width: 100%;margin-bottom: 0;padding: 0.3em;box-sizing: border-box;text-align: center;}#sk-container-id-1 label.sk-toggleable__label-arrow:before {content: \"▸\";float: left;margin-right: 0.25em;color: #696969;}#sk-container-id-1 label.sk-toggleable__label-arrow:hover:before {color: black;}#sk-container-id-1 div.sk-estimator:hover label.sk-toggleable__label-arrow:before {color: black;}#sk-container-id-1 div.sk-toggleable__content {max-height: 0;max-width: 0;overflow: hidden;text-align: left;background-color: #f0f8ff;}#sk-container-id-1 div.sk-toggleable__content pre {margin: 0.2em;color: black;border-radius: 0.25em;background-color: #f0f8ff;}#sk-container-id-1 input.sk-toggleable__control:checked~div.sk-toggleable__content {max-height: 200px;max-width: 100%;overflow: auto;}#sk-container-id-1 input.sk-toggleable__control:checked~label.sk-toggleable__label-arrow:before {content: \"▾\";}#sk-container-id-1 div.sk-estimator input.sk-toggleable__control:checked~label.sk-toggleable__label {background-color: #d4ebff;}#sk-container-id-1 div.sk-label input.sk-toggleable__control:checked~label.sk-toggleable__label {background-color: #d4ebff;}#sk-container-id-1 input.sk-hidden--visually {border: 0;clip: rect(1px 1px 1px 1px);clip: rect(1px, 1px, 1px, 1px);height: 1px;margin: -1px;overflow: hidden;padding: 0;position: absolute;width: 1px;}#sk-container-id-1 div.sk-estimator {font-family: monospace;background-color: #f0f8ff;border: 1px dotted black;border-radius: 0.25em;box-sizing: border-box;margin-bottom: 0.5em;}#sk-container-id-1 div.sk-estimator:hover {background-color: #d4ebff;}#sk-container-id-1 div.sk-parallel-item::after {content: \"\";width: 100%;border-bottom: 1px solid gray;flex-grow: 1;}#sk-container-id-1 div.sk-label:hover label.sk-toggleable__label {background-color: #d4ebff;}#sk-container-id-1 div.sk-serial::before {content: \"\";position: absolute;border-left: 1px solid gray;box-sizing: border-box;top: 0;bottom: 0;left: 50%;z-index: 0;}#sk-container-id-1 div.sk-serial {display: flex;flex-direction: column;align-items: center;background-color: white;padding-right: 0.2em;padding-left: 0.2em;position: relative;}#sk-container-id-1 div.sk-item {position: relative;z-index: 1;}#sk-container-id-1 div.sk-parallel {display: flex;align-items: stretch;justify-content: center;background-color: white;position: relative;}#sk-container-id-1 div.sk-item::before, #sk-container-id-1 div.sk-parallel-item::before {content: \"\";position: absolute;border-left: 1px solid gray;box-sizing: border-box;top: 0;bottom: 0;left: 50%;z-index: -1;}#sk-container-id-1 div.sk-parallel-item {display: flex;flex-direction: column;z-index: 1;position: relative;background-color: white;}#sk-container-id-1 div.sk-parallel-item:first-child::after {align-self: flex-end;width: 50%;}#sk-container-id-1 div.sk-parallel-item:last-child::after {align-self: flex-start;width: 50%;}#sk-container-id-1 div.sk-parallel-item:only-child::after {width: 0;}#sk-container-id-1 div.sk-dashed-wrapped {border: 1px dashed gray;margin: 0 0.4em 0.5em 0.4em;box-sizing: border-box;padding-bottom: 0.4em;background-color: white;}#sk-container-id-1 div.sk-label label {font-family: monospace;font-weight: bold;display: inline-block;line-height: 1.2em;}#sk-container-id-1 div.sk-label-container {text-align: center;}#sk-container-id-1 div.sk-container {/* jupyter's `normalize.less` sets `[hidden] { display: none; }` but bootstrap.min.css set `[hidden] { display: none !important; }` so we also need the `!important` here to be able to override the default hidden behavior on the sphinx rendered scikit-learn.org. See: https://github.com/scikit-learn/scikit-learn/issues/21755 */display: inline-block !important;position: relative;}#sk-container-id-1 div.sk-text-repr-fallback {display: none;}</style><div id=\"sk-container-id-1\" class=\"sk-top-container\"><div class=\"sk-text-repr-fallback\"><pre>SGDClassifier(random_state=42)</pre><b>In a Jupyter environment, please rerun this cell to show the HTML representation or trust the notebook. <br />On GitHub, the HTML representation is unable to render, please try loading this page with nbviewer.org.</b></div><div class=\"sk-container\" hidden><div class=\"sk-item\"><div class=\"sk-estimator sk-toggleable\"><input class=\"sk-toggleable__control sk-hidden--visually\" id=\"sk-estimator-id-1\" type=\"checkbox\" checked><label for=\"sk-estimator-id-1\" class=\"sk-toggleable__label sk-toggleable__label-arrow\">SGDClassifier</label><div class=\"sk-toggleable__content\"><pre>SGDClassifier(random_state=42)</pre></div></div></div></div></div>"
            ]
          },
          "metadata": {},
          "execution_count": 9
        }
      ]
    },
    {
      "cell_type": "markdown",
      "source": [
        "**3) 훈련을 사용해 숫자 5 이미지 감지**"
      ],
      "metadata": {
        "id": "PkMo7w3FIMrb"
      }
    },
    {
      "cell_type": "code",
      "source": [
        "sgd_clf.predict([some_digit])"
      ],
      "metadata": {
        "colab": {
          "base_uri": "https://localhost:8080/"
        },
        "id": "3Z2mkuuXILL-",
        "outputId": "074a3d12-0acc-497c-bb4d-de2839bae18e"
      },
      "execution_count": 10,
      "outputs": [
        {
          "output_type": "execute_result",
          "data": {
            "text/plain": [
              "array([ True])"
            ]
          },
          "metadata": {},
          "execution_count": 10
        }
      ]
    },
    {
      "cell_type": "markdown",
      "source": [
        "- 이미지가 5를 나타낸다고 추측함 (True)"
      ],
      "metadata": {
        "id": "5rEsrLE7ISC0"
      }
    },
    {
      "cell_type": "markdown",
      "source": [
        "#### **3.3 성능 측정** <br/>\n",
        "분류기 평가는 회귀 모델보다 훨씬 어렵기 때문에 사용할 수 있는 성능 지표가 많음"
      ],
      "metadata": {
        "id": "mw_xXLwrIWV2"
      }
    },
    {
      "cell_type": "markdown",
      "source": [
        "**1) 교차 검증을 사용한 정확도 측정** <br/>\n",
        "사이킷런이 제공하는 기능보다 교차 검증 과정을 더 많이 제어할 필요가 있는 경우 교차 검증 기능 직접 구현"
      ],
      "metadata": {
        "id": "-ovFymBHIfzk"
      }
    },
    {
      "cell_type": "code",
      "source": [
        "from sklearn.model_selection import StratifiedKFold\n",
        "from sklearn.base import clone\n",
        "\n",
        "skfolds = StratifiedKFold(n_splits=3, shuffle=True, random_state=42)\n",
        "\n",
        "for train_index, test_index in skfolds.split(X_train, y_train_5):\n",
        "    clone_clf = clone(sgd_clf)\n",
        "    X_train_folds = X_train[train_index]\n",
        "    y_train_folds = y_train_5[train_index]\n",
        "    X_test_fold = X_train[test_index]\n",
        "    y_test_fold = y_train_5[test_index]\n",
        "\n",
        "    clone_clf.fit(X_train_folds, y_train_folds)\n",
        "    y_pred = clone_clf.predict(X_test_fold)\n",
        "    n_correct = sum(y_pred == y_test_fold)\n",
        "    print(n_correct / len(y_pred))"
      ],
      "metadata": {
        "colab": {
          "base_uri": "https://localhost:8080/"
        },
        "id": "Hf3YTUNvIRAY",
        "outputId": "f9cd0b2d-fff6-4808-9dcb-5e2ca17d1a45"
      },
      "execution_count": 11,
      "outputs": [
        {
          "output_type": "stream",
          "name": "stdout",
          "text": [
            "0.9669\n",
            "0.91625\n",
            "0.96785\n"
          ]
        }
      ]
    },
    {
      "cell_type": "markdown",
      "source": [
        "- 클래스별 비율이 유지되도록 폴드를 만들기 위해 계층적 샘플링을 수행\n",
        "- 매 반복에서 분류기 객체를 복제하여 훈련 폴드로 훈련시키고 테스트 폴드로 예측을 만듦\n",
        "- 올바른 예측의 수를 세어 정확한 예측의 비율을 출력"
      ],
      "metadata": {
        "id": "isGqCoHUIsXj"
      }
    },
    {
      "cell_type": "markdown",
      "source": [
        "**1-1) SGDClassifier 모델 평가** <br/>\n",
        "cross_val_score() 함수로 폴드가 3개인 k-겹 교차 검증을 사용해 평가\n",
        "- 훈련 세트를 k개로 나누고 각 폴드에 대해 예측을 만들고 평가하기 위해 나머지 폴드로 훈련시킨 모델을 사용 "
      ],
      "metadata": {
        "id": "nGaP9_MDI3Su"
      }
    },
    {
      "cell_type": "code",
      "source": [
        "from sklearn.model_selection import cross_val_score\n",
        "cross_val_score(sgd_clf, X_train, y_train_5, cv=3, scoring=\"accuracy\")"
      ],
      "metadata": {
        "colab": {
          "base_uri": "https://localhost:8080/"
        },
        "id": "ivjqNZoeIrl_",
        "outputId": "549a46b5-8006-4eed-d409-98664653240c"
      },
      "execution_count": 12,
      "outputs": [
        {
          "output_type": "execute_result",
          "data": {
            "text/plain": [
              "array([0.95035, 0.96035, 0.9604 ])"
            ]
          },
          "metadata": {},
          "execution_count": 12
        }
      ]
    },
    {
      "cell_type": "markdown",
      "source": [
        "- 모든 교차 검증 폴드에 대해 정확도가 95% 이상"
      ],
      "metadata": {
        "id": "Qj2QCCwMJhLw"
      }
    },
    {
      "cell_type": "markdown",
      "source": [
        "**1-2) 더미 분류기와 비교** <br/>\n",
        "모든 이미지를 '5 아님' 클래스로 분류하는 더미 분류기를 만들어 비교"
      ],
      "metadata": {
        "id": "jfkbFFWoJnXd"
      }
    },
    {
      "cell_type": "code",
      "source": [
        "from sklearn.base import BaseEstimator\n",
        "class Never5Classifier(BaseEstimator):\n",
        "    def fit(self, X, y=None):\n",
        "        pass\n",
        "    def predict(self, X):\n",
        "        return np.zeros((len(X), 1), dtype=bool)"
      ],
      "metadata": {
        "id": "0u-3HJ8DJeph"
      },
      "execution_count": 13,
      "outputs": []
    },
    {
      "cell_type": "markdown",
      "source": [
        "**1-3) 모델의 정확도 추측**"
      ],
      "metadata": {
        "id": "-zfU8uPmKU7-"
      }
    },
    {
      "cell_type": "code",
      "source": [
        "never_5_clf = Never5Classifier()\n",
        "cross_val_score(never_5_clf, X_train, y_train_5, cv=3, scoring=\"accuracy\")"
      ],
      "metadata": {
        "colab": {
          "base_uri": "https://localhost:8080/"
        },
        "id": "fh1lBLPvJyuj",
        "outputId": "9a28b9ed-0e04-4ad9-ea7d-f131f5d3f55a"
      },
      "execution_count": 14,
      "outputs": [
        {
          "output_type": "execute_result",
          "data": {
            "text/plain": [
              "array([0.91125, 0.90855, 0.90915])"
            ]
          },
          "metadata": {},
          "execution_count": 14
        }
      ]
    },
    {
      "cell_type": "markdown",
      "source": [
        "- 정확도가 90% 이상으로 나옴\n",
        "- 이미지가 10% 정도만 숫자 5이기 때문에 무조건 '5 아님'으로 예측 시 90%의 정확도가 나옴\n",
        "- **불균형 데이터셋**을 다룰 때 정확도는 **분류기의 성능 측정 지표**로 적절하지 않음"
      ],
      "metadata": {
        "id": "42yPndneKZnN"
      }
    },
    {
      "cell_type": "markdown",
      "source": [
        "**2) 오차 행렬** <br/>\n",
        "분류기의 성능을 평가하는 더 좋은 방법\n",
        "- 클래스 A의 샘플이 클래스 B로 분류된 횟수를 세는 아이디어\n",
        "- 실제 타깃과 비교할 수 있도록 먼저 예측값을 만들어야 함\n",
        "- 테스트 세트로 예측을 만들 수 있으나 사용해서는 안되며, 분류기가 출시 준비 마치고 난 후 사용해야 함\n",
        " - cross_val_predict() 함수 사용 가능"
      ],
      "metadata": {
        "id": "4Zr4DNRYKnoy"
      }
    },
    {
      "cell_type": "code",
      "source": [
        "from sklearn.model_selection import cross_val_predict\n",
        "\n",
        "y_train_pred = cross_val_predict(sgd_clf, X_train, y_train_5, cv=3)"
      ],
      "metadata": {
        "id": "hVsbd2C2J10V"
      },
      "execution_count": 15,
      "outputs": []
    },
    {
      "cell_type": "markdown",
      "source": [
        "- cross_val_predcit() 함수는 k-겹 교차 검증을 수행하지만, <br/>\n",
        " 평가 점수를 반환하지 않고 각 테스트 폴드에서 얻은 예측을 반환함\n",
        "- 훈련 세트의 모든 샘플에 대한 깨끗한 예측을 얻게 됨"
      ],
      "metadata": {
        "id": "tBg02XmlLKbF"
      }
    },
    {
      "cell_type": "markdown",
      "source": [
        "**2-1) confusion_matrix() 함수를 이용해 오차 행렬 생성** <br/>\n",
        "타깃 클래스(y_train_5)와 예측 클래스(y_train_pred)를 넣고 호출"
      ],
      "metadata": {
        "id": "WObLgXpsLZfY"
      }
    },
    {
      "cell_type": "code",
      "source": [
        "from sklearn.metrics import confusion_matrix\n",
        "\n",
        "confusion_matrix(y_train_5, y_train_pred)"
      ],
      "metadata": {
        "colab": {
          "base_uri": "https://localhost:8080/"
        },
        "id": "cSp7rxdqLI91",
        "outputId": "65ff8d5e-e20b-49ca-c93e-5e985e8b3854"
      },
      "execution_count": 16,
      "outputs": [
        {
          "output_type": "execute_result",
          "data": {
            "text/plain": [
              "array([[53892,   687],\n",
              "       [ 1891,  3530]])"
            ]
          },
          "metadata": {},
          "execution_count": 16
        }
      ]
    },
    {
      "cell_type": "markdown",
      "source": [
        "- 행은 실제 클래스를 나타내고 열은 예측한 클래스를 나타냄\n",
        " - 완벽한 분류기는 진짜 양성과 진짜 음성만 가지고 있으므로 오차 행렬의 주대각선만 0이 아닌 값\n",
        "- 첫 번째 행은 '5 아님' 이미지(음성 클래스)에 대한 것\n",
        " - 53892개를 정확하게 분류했고 (진짜 음성), 나머지 687개는 잘못 분류함 (거짓 양성)\n",
        "- 두 번째 행은 '5' 이미지(양성 클래스)에 대한 것\n",
        " - 1,325개를 잘모 분류했고 (거짓 음성), 나머지 4,096개를 정확히 분류 (진짜 양성)"
      ],
      "metadata": {
        "id": "YJqDIzsxLmq1"
      }
    },
    {
      "cell_type": "code",
      "source": [
        "y_train_perfect_predictions = y_train_5  # pretend we reached perfection\n",
        "confusion_matrix(y_train_5, y_train_perfect_predictions)"
      ],
      "metadata": {
        "colab": {
          "base_uri": "https://localhost:8080/"
        },
        "id": "yLoPC0CFLmaF",
        "outputId": "1ea13f49-af2f-4bf1-a6e0-e5717fdbf5d0"
      },
      "execution_count": 17,
      "outputs": [
        {
          "output_type": "execute_result",
          "data": {
            "text/plain": [
              "array([[54579,     0],\n",
              "       [    0,  5421]])"
            ]
          },
          "metadata": {},
          "execution_count": 17
        }
      ]
    },
    {
      "cell_type": "markdown",
      "source": [
        "**2-2) 정밀도** <br/>\n",
        "오차 행렬보다 더 요약된 지표가 필요할 때 사용하며, 양성 예측의 정확도\n",
        "- TP / TP+FP\n",
        " - TP: 진짜 양성의 수, FP: 거짓 양성의 수\n",
        "- 양성 샘플 하나만 예측하면 간단히 완벽한 정밀도를 얻을 수 있으나, <br/>\n",
        "다른 모든 양성 샘플을 무시하므로 유용하진 않음"
      ],
      "metadata": {
        "id": "OuYfnz4qMODb"
      }
    },
    {
      "cell_type": "markdown",
      "source": [
        "**2-3) 재현율**<br/>\n",
        "정밀도와 함께 사용하며, 분류기가 정확하게 감지한 양성 샘플의 비율\n",
        "- 민감도 또는 진짜 양성 비율(TPR)이라고도 함 \n",
        "- TP / TP+FN\n",
        " - FN: 거짓 음성의 수"
      ],
      "metadata": {
        "id": "SjDf1iB9Mlgm"
      }
    },
    {
      "cell_type": "markdown",
      "source": [
        "**3) 정밀도와 재현율** <br/>\n",
        "정밀도와 재현율을 포함한 분류기의 지표를 계산하는 여러 함수 제공"
      ],
      "metadata": {
        "id": "GCnKlmN0MyuQ"
      }
    },
    {
      "cell_type": "code",
      "source": [
        "from sklearn.metrics import precision_score, recall_score\n",
        "\n",
        "precision_score(y_train_5, y_train_pred)"
      ],
      "metadata": {
        "colab": {
          "base_uri": "https://localhost:8080/"
        },
        "id": "y0MD9TGCLjwl",
        "outputId": "b901500a-64f3-441a-dd98-08bc86b4c0d6"
      },
      "execution_count": 18,
      "outputs": [
        {
          "output_type": "execute_result",
          "data": {
            "text/plain": [
              "0.8370879772350012"
            ]
          },
          "metadata": {},
          "execution_count": 18
        }
      ]
    },
    {
      "cell_type": "markdown",
      "source": [
        "- 5로 판별된 이미지 중 83%만 정확하며, 전체 숫자 5에서 83%만 감지"
      ],
      "metadata": {
        "id": "xJ4j5UqZM9QZ"
      }
    },
    {
      "cell_type": "markdown",
      "source": [
        "**3-1) F1 점수** <br/>\n",
        "정밀도와 재현율을 F1 점수라고 하는 하나의 숫자로 만들면 편리하며, 특히 두 분류기를 비교할 때 사용\n",
        "- 정밀도와 재현율의 조화 평균\n",
        "- TP / TP+(FN+FP/2)"
      ],
      "metadata": {
        "id": "SinnxkjgNESk"
      }
    },
    {
      "cell_type": "code",
      "source": [
        "from sklearn.metrics import f1_score\n",
        "\n",
        "f1_score(y_train_5, y_train_pred)"
      ],
      "metadata": {
        "colab": {
          "base_uri": "https://localhost:8080/"
        },
        "id": "vIWAhCWyM7DY",
        "outputId": "5cf08d64-3fc4-4fe9-f582-5e50c3cebb8a"
      },
      "execution_count": 19,
      "outputs": [
        {
          "output_type": "execute_result",
          "data": {
            "text/plain": [
              "0.7325171197343846"
            ]
          },
          "metadata": {},
          "execution_count": 19
        }
      ]
    },
    {
      "cell_type": "markdown",
      "source": [
        "**3-2) 정밀도와 재현율** <br/>\n",
        "정밀도와 재현율이 비슷한 분류기에는 F1 점수가 높지만, 바람직한 상황은 아님\n",
        " - 상황에 따라 정밀도가 중요할 수도 있고 재현율이 중요할 수도 있음\n",
        " - 정밀도를 올리면 재현율이 줄고 그 반대도 마찬가지이며, 이는 정밀도/재현율 트레이드오프라고 함"
      ],
      "metadata": {
        "id": "LBqULtzvNlPb"
      }
    },
    {
      "cell_type": "markdown",
      "source": [
        "**4) 정밀도/재현율 트레이드오프** <br/>\n",
        "SGDClassifier가 분류를 어떻게 결정하는지를 살펴보며 트레이드오프 이해"
      ],
      "metadata": {
        "id": "FdQ4L9DvNV7U"
      }
    },
    {
      "cell_type": "markdown",
      "source": [
        "**4-1) 결정 함수** <br/>\n",
        "SGDClassifier는 결정 함수를 사용하여 각 샘플의 점수를 계산함\n",
        "- 점수가 임곗값보다 크면 샘플을 양성 클래스에 할당하고, 그렇지 않으면 음성 클래스에 할당\n",
        "- 결정 임곗값에 따라 정밀도와 재현율이 달라짐 "
      ],
      "metadata": {
        "id": "5gQzEMrROIGm"
      }
    },
    {
      "cell_type": "markdown",
      "source": [
        "**4-2) 사이킷런의 임곗값** <Br/>\n",
        "사이킷런에서 임곗값을 직접 지정할 수는 없지만 예측에 사용한 점수는 확인할 수 있음\n",
        "- 분류기의 predict() 메서드 대신 decision_function() 메서드를 호출하면 각 샘플 점수를 얻을 수 있음\n",
        "- 해당 점수를 기반으로 원하는 임곗값을 정해 예측을 만들 수 있음"
      ],
      "metadata": {
        "id": "8JMy04_AOaMF"
      }
    },
    {
      "cell_type": "code",
      "source": [
        "y_scores = sgd_clf.decision_function([some_digit])\n",
        "y_scores"
      ],
      "metadata": {
        "colab": {
          "base_uri": "https://localhost:8080/"
        },
        "id": "nHG8gGHiNVG2",
        "outputId": "4e35844e-6e5b-4254-8994-255af2020add"
      },
      "execution_count": 20,
      "outputs": [
        {
          "output_type": "execute_result",
          "data": {
            "text/plain": [
              "array([2164.22030239])"
            ]
          },
          "metadata": {},
          "execution_count": 20
        }
      ]
    },
    {
      "cell_type": "code",
      "source": [
        "threshold = 0\n",
        "y_some_digit_pred = (y_scores > threshold)"
      ],
      "metadata": {
        "id": "tUEU-18zOrrY"
      },
      "execution_count": 21,
      "outputs": []
    },
    {
      "cell_type": "code",
      "source": [
        "y_some_digit_pred"
      ],
      "metadata": {
        "colab": {
          "base_uri": "https://localhost:8080/"
        },
        "id": "u6YAXb3uPSnq",
        "outputId": "13670e74-3083-4a8f-d7fc-63f6b6508077"
      },
      "execution_count": 22,
      "outputs": [
        {
          "output_type": "execute_result",
          "data": {
            "text/plain": [
              "array([ True])"
            ]
          },
          "metadata": {},
          "execution_count": 22
        }
      ]
    },
    {
      "cell_type": "markdown",
      "source": [
        "- SGDClassifier의 임곗값이 0이므로 위 코드는 predict() 메서드와 같은 결과 (True) 반환"
      ],
      "metadata": {
        "id": "MOyXGr-gOuIq"
      }
    },
    {
      "cell_type": "markdown",
      "source": [
        "**4-3) 임곗값 조정** <Br/>"
      ],
      "metadata": {
        "id": "hb3AQ0GPO1aC"
      }
    },
    {
      "cell_type": "code",
      "source": [
        "threshold = 8000\n",
        "y_some_digit_pred = (y_scores > threshold)\n",
        "y_some_digit_pred"
      ],
      "metadata": {
        "colab": {
          "base_uri": "https://localhost:8080/"
        },
        "id": "hVPEHEotOtYl",
        "outputId": "7b7a876d-78d3-4a00-cfc2-6e1882767f29"
      },
      "execution_count": 23,
      "outputs": [
        {
          "output_type": "execute_result",
          "data": {
            "text/plain": [
              "array([False])"
            ]
          },
          "metadata": {},
          "execution_count": 23
        }
      ]
    },
    {
      "cell_type": "markdown",
      "source": [
        "- 임곗값을 높이면 재현율이 줄어듦"
      ],
      "metadata": {
        "id": "5u1xJSjUPV7i"
      }
    },
    {
      "cell_type": "markdown",
      "source": [
        "**4-4) 적절한 임곗값 지정** <br/>\n",
        "cross_val_predict() 함수를 사용해 훈련 세트에 있는 모든 샘플의 점수를 구해야 함\n",
        "- 예측 결과가 아닌 결정 함수를 반환받도록 지정"
      ],
      "metadata": {
        "id": "gdKQlm3VPc82"
      }
    },
    {
      "cell_type": "code",
      "source": [
        "y_scores = cross_val_predict(sgd_clf, X_train, y_train_5, cv=3,\n",
        "                             method=\"decision_function\")"
      ],
      "metadata": {
        "id": "bCXtBCKlPU43"
      },
      "execution_count": 24,
      "outputs": []
    },
    {
      "cell_type": "markdown",
      "source": [
        "**4-5) 모든 임곗값에 대한 정밀도와 재현율 계산** <br/>\n",
        "결정 점수로 precision_recall_curve() 함수를 사용하여 가능한 모든 임곗값에 대해 계산 가능"
      ],
      "metadata": {
        "id": "UthdFLMLPrz7"
      }
    },
    {
      "cell_type": "code",
      "source": [
        "from sklearn.metrics import precision_recall_curve\n",
        "\n",
        "precisions, recalls, thresholds = precision_recall_curve(y_train_5, y_scores)"
      ],
      "metadata": {
        "id": "oEI1kErqPUIT"
      },
      "execution_count": 25,
      "outputs": []
    },
    {
      "cell_type": "markdown",
      "source": [
        "**4-6) 맷플롯립을 이용해 임곗값의 함수로 정밀도와 재현율 그리기**"
      ],
      "metadata": {
        "id": "f0LY_uqlP4x0"
      }
    },
    {
      "cell_type": "code",
      "source": [
        "def plot_precision_recall_vs_threshold(precisions, recalls, thresholds):\n",
        "    plt.plot(thresholds, precisions[:-1], \"b--\", label=\"Precision\", linewidth=2)\n",
        "    plt.plot(thresholds, recalls[:-1], \"g-\", label=\"Recall\", linewidth=2)\n",
        "    plt.legend(loc=\"center right\", fontsize=16) # Not shown in the book\n",
        "    plt.xlabel(\"Threshold\", fontsize=16)        # Not shown\n",
        "    plt.grid(True)                              # Not shown\n",
        "    plt.axis([-50000, 50000, 0, 1])             # Not shown\n",
        "\n",
        "\n",
        "\n",
        "recall_90_precision = recalls[np.argmax(precisions >= 0.90)]\n",
        "threshold_90_precision = thresholds[np.argmax(precisions >= 0.90)]\n",
        "\n",
        "\n",
        "plt.figure(figsize=(8, 4))                                                                  # Not shown\n",
        "plot_precision_recall_vs_threshold(precisions, recalls, thresholds)\n",
        "plt.plot([threshold_90_precision, threshold_90_precision], [0., 0.9], \"r:\")                 # Not shown\n",
        "plt.plot([-50000, threshold_90_precision], [0.9, 0.9], \"r:\")                                # Not shown\n",
        "plt.plot([-50000, threshold_90_precision], [recall_90_precision, recall_90_precision], \"r:\")# Not shown\n",
        "plt.plot([threshold_90_precision], [0.9], \"ro\")                                             # Not shown\n",
        "plt.plot([threshold_90_precision], [recall_90_precision], \"ro\")                             # Not shown\n",
        "save_fig(\"precision_recall_vs_threshold_plot\")                                              # Not shown\n",
        "plt.show()"
      ],
      "metadata": {
        "colab": {
          "base_uri": "https://localhost:8080/",
          "height": 315
        },
        "id": "oJUiC6GqP-xM",
        "outputId": "12d73286-f040-47ba-af5d-bece52ff85ef"
      },
      "execution_count": 26,
      "outputs": [
        {
          "output_type": "stream",
          "name": "stdout",
          "text": [
            "Saving figure precision_recall_vs_threshold_plot\n"
          ]
        },
        {
          "output_type": "display_data",
          "data": {
            "text/plain": [
              "<Figure size 576x288 with 1 Axes>"
            ],
            "image/png": "[encoded data removed]"
          },
          "metadata": {
            "needs_background": "light"
          }
        }
      ]
    },
    {
      "cell_type": "code",
      "source": [
        "# 재현율에 대한 정밀도 곡선\n",
        "def plot_precision_vs_recall(precisions, recalls):\n",
        "    plt.plot(recalls, precisions, \"b-\", linewidth=2)\n",
        "    plt.xlabel(\"Recall\", fontsize=16)\n",
        "    plt.ylabel(\"Precision\", fontsize=16)\n",
        "    plt.axis([0, 1, 0, 1])\n",
        "    plt.grid(True)\n",
        "\n",
        "plt.figure(figsize=(8, 6))\n",
        "plot_precision_vs_recall(precisions, recalls)\n",
        "plt.plot([recall_90_precision, recall_90_precision], [0., 0.9], \"r:\")\n",
        "plt.plot([0.0, recall_90_precision], [0.9, 0.9], \"r:\")\n",
        "plt.plot([recall_90_precision], [0.9], \"ro\")\n",
        "save_fig(\"precision_vs_recall_plot\")\n",
        "plt.show()"
      ],
      "metadata": {
        "colab": {
          "base_uri": "https://localhost:8080/",
          "height": 459
        },
        "id": "YqurVelCP3V1",
        "outputId": "e9906d9a-62d0-4de7-ac36-0ef15fa3e9bf"
      },
      "execution_count": 27,
      "outputs": [
        {
          "output_type": "stream",
          "name": "stdout",
          "text": [
            "Saving figure precision_vs_recall_plot\n"
          ]
        },
        {
          "output_type": "display_data",
          "data": {
            "text/plain": [
              "<Figure size 576x432 with 1 Axes>"
            ],
            "image/png": "[encoded data removed]"
          },
          "metadata": {
            "needs_background": "light"
          }
        }
      ]
    },
    {
      "cell_type": "markdown",
      "source": [
        "- 재현율 80% 근처에서 정밀도가 급격하게 줄어들기 시작하며, 이 하강점 직전을 트레이드오프로 설정"
      ],
      "metadata": {
        "id": "yDDDpMmfRmQ1"
      }
    },
    {
      "cell_type": "markdown",
      "source": [
        "**4-7) 임계값 설정** <br/>\n",
        "정밀도 90%를 달성하는 것이 목표라면 최소한 정밀도 90%가 되는 가장 낮은 임계값 찾기"
      ],
      "metadata": {
        "id": "18sbc8bVSDQr"
      }
    },
    {
      "cell_type": "code",
      "source": [
        "threshold_90_precision = thresholds[np.argmax(precisions >= 0.90)]\n",
        "threshold_90_precision"
      ],
      "metadata": {
        "id": "H1iQB0DeQeB6"
      },
      "execution_count": 27,
      "outputs": []
    },
    {
      "cell_type": "markdown",
      "source": [
        "**4-8) 훈련 세트에 대한 예측 만들기** <br/>\n",
        "예측을 만들기 위해서는 분류기의 predict() 메서드를 호출하는 대신 다음 코드 실행"
      ],
      "metadata": {
        "id": "SEt0xsOzSLjX"
      }
    },
    {
      "cell_type": "code",
      "source": [
        "y_train_pred_90 = (y_scores >= threshold_90_precision)"
      ],
      "metadata": {
        "id": "GGhpnQ3tSTeY"
      },
      "execution_count": 28,
      "outputs": []
    },
    {
      "cell_type": "markdown",
      "source": [
        "**4-9) 예측에 대한 정밀도와 재현율 확인**"
      ],
      "metadata": {
        "id": "kg4iDqrkSeHk"
      }
    },
    {
      "cell_type": "code",
      "source": [
        "precision_score(y_train_5, y_train_pred_90)"
      ],
      "metadata": {
        "colab": {
          "base_uri": "https://localhost:8080/"
        },
        "id": "KzzXhCMySaDq",
        "outputId": "b77217fd-9e79-4283-f1ca-6940e192749b"
      },
      "execution_count": 29,
      "outputs": [
        {
          "output_type": "execute_result",
          "data": {
            "text/plain": [
              "0.9000345901072293"
            ]
          },
          "metadata": {},
          "execution_count": 29
        }
      ]
    },
    {
      "cell_type": "code",
      "source": [
        "recall_score(y_train_5, y_train_pred_90)"
      ],
      "metadata": {
        "colab": {
          "base_uri": "https://localhost:8080/"
        },
        "id": "tgfPA56BShPL",
        "outputId": "8b16e61f-535c-48e0-875c-68d58d00eea2"
      },
      "execution_count": 30,
      "outputs": [
        {
          "output_type": "execute_result",
          "data": {
            "text/plain": [
              "0.4799852425751706"
            ]
          },
          "metadata": {},
          "execution_count": 30
        }
      ]
    },
    {
      "cell_type": "markdown",
      "source": [
        "- 정밀도 90%를 달성한 분류기 생성\n",
        "- 가상의 정밀도에 대해서도 분류기를 손쉽게 만들 수 있음"
      ],
      "metadata": {
        "id": "rCQTYKs7SjS3"
      }
    },
    {
      "cell_type": "markdown",
      "source": [
        "**5) ROC 곡선** <br/>\n",
        "수신기 조작 특성 (ROC) 곡선은 이진 분류에서 널리 사용하며, 정밀도/재현율 곡선과 매우 비슷\n",
        "- ROC 곡선은 정밀도에 대한 재현율 곡선이 아니고 거짓 양성 비율에 대한 진짜 양성 비율의 곡선\n",
        "- 양성으로 잘못 분류된 음성 샘플의 비율이 FPR이며, 1에서 진짜 음성 비율(TNR)을 뺀 값\n",
        "- 민감도에 대한 1-특이도(TNR) 그래프"
      ],
      "metadata": {
        "id": "h1ffeJ0ISo0g"
      }
    },
    {
      "cell_type": "markdown",
      "source": [
        "**5-1) roc_curve() 함수 사용** <br/>\n",
        "여러 임계값에서 TPR, FPR을 계산해야 함"
      ],
      "metadata": {
        "id": "ig9ryAh_TbCS"
      }
    },
    {
      "cell_type": "code",
      "source": [
        "from sklearn.metrics import roc_curve\n",
        "\n",
        "fpr, tpr, thresholds = roc_curve(y_train_5, y_scores)"
      ],
      "metadata": {
        "id": "rWW6xdiJSio_"
      },
      "execution_count": 31,
      "outputs": []
    },
    {
      "cell_type": "markdown",
      "source": [
        "**5-2) 맷플롯립을 사용해 TPR에 대한 FPR 곡선 그리기**"
      ],
      "metadata": {
        "id": "8xx0qQBlT10v"
      }
    },
    {
      "cell_type": "code",
      "source": [
        "def plot_roc_curve(fpr, tpr, label=None):\n",
        "    plt.plot(fpr, tpr, linewidth=2, label=label)\n",
        "    plt.plot([0, 1], [0, 1], 'k--') # dashed diagonal\n",
        "    plt.axis([0, 1, 0, 1])                                    # Not shown in the book\n",
        "    plt.xlabel('False Positive Rate (Fall-Out)', fontsize=16) # Not shown\n",
        "    plt.ylabel('True Positive Rate (Recall)', fontsize=16)    # Not shown\n",
        "    plt.grid(True)                                            # Not shown\n",
        "\n",
        "plt.figure(figsize=(8, 6))                                    # Not shown\n",
        "plot_roc_curve(fpr, tpr)\n",
        "fpr_90 = fpr[np.argmax(tpr >= recall_90_precision)]           # Not shown\n",
        "plt.plot([fpr_90, fpr_90], [0., recall_90_precision], \"r:\")   # Not shown\n",
        "plt.plot([0.0, fpr_90], [recall_90_precision, recall_90_precision], \"r:\")  # Not shown\n",
        "plt.plot([fpr_90], [recall_90_precision], \"ro\")               # Not shown\n",
        "save_fig(\"roc_curve_plot\")                                    # Not shown\n",
        "plt.show()"
      ],
      "metadata": {
        "colab": {
          "base_uri": "https://localhost:8080/",
          "height": 459
        },
        "id": "sL5KfdYrT1Jm",
        "outputId": "3caa7505-e34c-4bbc-a7ec-3b53bb01b6ea"
      },
      "execution_count": 32,
      "outputs": [
        {
          "output_type": "stream",
          "name": "stdout",
          "text": [
            "Saving figure roc_curve_plot\n"
          ]
        },
        {
          "output_type": "display_data",
          "data": {
            "text/plain": [
              "<Figure size 576x432 with 1 Axes>"
            ],
            "image/png": "[encoded data removed]"
          },
          "metadata": {
            "needs_background": "light"
          }
        }
      ]
    },
    {
      "cell_type": "markdown",
      "source": [
        "- 재현율(TPR)이 높을수록 분류기가 만드는 거짓 양성이 늘어남\n",
        "- 점선은 완전한 랜덤 분류기의 ROC 곡선을 뜻함\n",
        "- 좋은 분류기는 점선에서 최대한 멀리 떨어져 있어야 함"
      ],
      "metadata": {
        "id": "2Y5Md9QWUCvF"
      }
    },
    {
      "cell_type": "markdown",
      "source": [
        "**5-3) ROC의 AUC 계산** <br/>\n",
        "곡선 아래의 면적을 측정하면 분류기들을 비교할 수 있음\n",
        "- 완벽한 분류기는 ROC의 AUC가 1이고, 완전한 랜덤 분류기는 0.5"
      ],
      "metadata": {
        "id": "kwLb-t47Ua2l"
      }
    },
    {
      "cell_type": "code",
      "source": [
        "from sklearn.metrics import roc_auc_score\n",
        "\n",
        "roc_auc_score(y_train_5, y_scores)"
      ],
      "metadata": {
        "colab": {
          "base_uri": "https://localhost:8080/"
        },
        "id": "c5ZCcWBxT8nn",
        "outputId": "86938b7a-806c-43ca-bf9b-5e5746ebef86"
      },
      "execution_count": 33,
      "outputs": [
        {
          "output_type": "execute_result",
          "data": {
            "text/plain": [
              "0.9604938554008616"
            ]
          },
          "metadata": {},
          "execution_count": 33
        }
      ]
    },
    {
      "cell_type": "markdown",
      "source": [
        "**5-4) SGDClassifier의 ROC 곡선과 ROC AUC 점수 비교** <Br/>\n",
        "RandomForestClassifier을 훈련시킨 후 훈련 세트의 샘플에 대한 점수를 얻어야 함\n",
        "- 작동 방식의 차이때문에 RandomForestClassifier는 predict_proba() 메서드 사용\n",
        "- predict_proba()는 샘플이 행, 클래스가 열이고 샘플이 주어진 클래스에 속할 확률을 담은 배열 반환"
      ],
      "metadata": {
        "id": "3icctrcPUq23"
      }
    },
    {
      "cell_type": "code",
      "source": [
        "from sklearn.ensemble import RandomForestClassifier\n",
        "forest_clf = RandomForestClassifier(n_estimators=100, random_state=42)\n",
        "y_probas_forest = cross_val_predict(forest_clf, X_train, y_train_5, cv=3,\n",
        "                                    method=\"predict_proba\")"
      ],
      "metadata": {
        "id": "yeO3h103UqGK"
      },
      "execution_count": 34,
      "outputs": []
    },
    {
      "cell_type": "markdown",
      "source": [
        "**5-5) 양성 클래스 확률을 점수로 사용 후 ROC 곡선 그리기** <br/>\n",
        "roc_curve() 함수는 레이블과 점수를 기대하지만 점수 대신 클래스 확률을 전달할 수도 있음\n",
        "- 비교를 위해 첫 번째 ROC 곡선도 함께 그리기"
      ],
      "metadata": {
        "id": "33h5NyIIVkTk"
      }
    },
    {
      "cell_type": "code",
      "source": [
        "y_scores_forest = y_probas_forest[:, 1] # score = proba of positive class\n",
        "fpr_forest, tpr_forest, thresholds_forest = roc_curve(y_train_5,y_scores_forest)"
      ],
      "metadata": {
        "id": "2ZFu0wJxVwf0"
      },
      "execution_count": 35,
      "outputs": []
    },
    {
      "cell_type": "code",
      "source": [
        "recall_for_forest = tpr_forest[np.argmax(fpr_forest >= fpr_90)]\n",
        "\n",
        "plt.figure(figsize=(8, 6))\n",
        "plt.plot(fpr, tpr, \"b:\", linewidth=2, label=\"SGD\")\n",
        "plot_roc_curve(fpr_forest, tpr_forest, \"Random Forest\")\n",
        "plt.plot([fpr_90, fpr_90], [0., recall_90_precision], \"r:\")\n",
        "plt.plot([0.0, fpr_90], [recall_90_precision, recall_90_precision], \"r:\")\n",
        "plt.plot([fpr_90], [recall_90_precision], \"ro\")\n",
        "plt.plot([fpr_90, fpr_90], [0., recall_for_forest], \"r:\")\n",
        "plt.plot([fpr_90], [recall_for_forest], \"ro\")\n",
        "plt.grid(True)\n",
        "plt.legend(loc=\"lower right\", fontsize=16)\n",
        "save_fig(\"roc_curve_comparison_plot\")\n",
        "plt.show()"
      ],
      "metadata": {
        "colab": {
          "base_uri": "https://localhost:8080/",
          "height": 459
        },
        "id": "C5V2iC1DVw8Z",
        "outputId": "fa0c64d0-441d-488b-ed98-1d8112449ab0"
      },
      "execution_count": 36,
      "outputs": [
        {
          "output_type": "stream",
          "name": "stdout",
          "text": [
            "Saving figure roc_curve_comparison_plot\n"
          ]
        },
        {
          "output_type": "display_data",
          "data": {
            "text/plain": [
              "<Figure size 576x432 with 1 Axes>"
            ],
            "image/png": "[encoded data removed]"
          },
          "metadata": {
            "needs_background": "light"
          }
        }
      ]
    },
    {
      "cell_type": "markdown",
      "source": [
        "- RandomForestClassifier의 ROC 곡선이 왼쪽 위 모서리에 더 가까워 SGDClassifier보다 좋아보임\n",
        "- ROC AUC 점수도 훨씬 높음"
      ],
      "metadata": {
        "id": "GdHGAC2pV2F3"
      }
    },
    {
      "cell_type": "markdown",
      "source": [
        "**5-6) 정밀도 및 재현율 점수 계산** <br/>"
      ],
      "metadata": {
        "id": "gsHHmEodV_Ph"
      }
    },
    {
      "cell_type": "code",
      "source": [
        "roc_auc_score(y_train_5, y_scores_forest)"
      ],
      "metadata": {
        "colab": {
          "base_uri": "https://localhost:8080/"
        },
        "id": "0VSCeB9DVzmg",
        "outputId": "e55eacd9-3295-468b-c35c-08a01c32bca3"
      },
      "execution_count": 37,
      "outputs": [
        {
          "output_type": "execute_result",
          "data": {
            "text/plain": [
              "0.9983436731328145"
            ]
          },
          "metadata": {},
          "execution_count": 37
        }
      ]
    },
    {
      "cell_type": "code",
      "source": [
        "y_train_pred_forest = cross_val_predict(forest_clf, X_train, y_train_5, cv=3)\n",
        "precision_score(y_train_5, y_train_pred_forest)"
      ],
      "metadata": {
        "colab": {
          "base_uri": "https://localhost:8080/"
        },
        "id": "2rr5c4sTWPvO",
        "outputId": "f72da736-cef7-4d51-a311-ad05fb64f2a7"
      },
      "execution_count": 39,
      "outputs": [
        {
          "output_type": "execute_result",
          "data": {
            "text/plain": [
              "0.9905083315756169"
            ]
          },
          "metadata": {},
          "execution_count": 39
        }
      ]
    },
    {
      "cell_type": "code",
      "source": [
        "recall_score(y_train_5, y_train_pred_forest)"
      ],
      "metadata": {
        "colab": {
          "base_uri": "https://localhost:8080/"
        },
        "id": "ZIqM0QbFWG8y",
        "outputId": "3de4f757-3fbc-46ed-b93a-5ad0b082c56e"
      },
      "execution_count": 40,
      "outputs": [
        {
          "output_type": "execute_result",
          "data": {
            "text/plain": [
              "0.8662608374838591"
            ]
          },
          "metadata": {},
          "execution_count": 40
        }
      ]
    },
    {
      "cell_type": "markdown",
      "source": [
        "- 99.0%의 정밀도와 86.6%의 재현율이 나오므로 나쁘지 않은 결과 도출"
      ],
      "metadata": {
        "id": "f41ez4TJWSoD"
      }
    },
    {
      "cell_type": "markdown",
      "source": [
        "#### **3.4 다중 분류** <br/>\n",
        "다중 분류기(다항 분류기)는 둘 이상의 클래스 구별 가능"
      ],
      "metadata": {
        "id": "YK3K2aWyWei5"
      }
    },
    {
      "cell_type": "markdown",
      "source": [
        "**1) 다중 클래스 분류 기법** <br/>\n",
        "SGD 분류기, 랜덤 포레스트, 분류기 등의 일부 알고리즘은 여러 개의 클래스를 직접 처리 가능하지만, <br/>\n",
        "로지스틱 회귀나 서포트 벡터 머신 분류기 등은 이진 분류만 가능\n",
        " - 이진 분류기를 여러 개 사용해 다중 클래스를 분류하는 기법도 존재"
      ],
      "metadata": {
        "id": "vkD00hzOgMCM"
      }
    },
    {
      "cell_type": "markdown",
      "source": [
        "**1-1) OvR와 OvO** <br/>\n",
        "특정 숫자 하나만 구분하는 숫자별 이진 분류기 10개를 훈련시켜 클래스가 10개인 숫자 이미지 분류 시스템 생성\n",
        "- 이미지 분류 시 각 분류기의 결정 점수 중 가장 높은 것을 클래스로 선택하면 OvR(OvA) 전략\n",
        " - 대부분의 이진 분류 알고리즘에서 선호\n",
        "- 0과 1 구별, 0과 2 구별, 1과 2 구별 등 각 숫자의 조합마다 이진 분류기를 훈련하면 OvO 전략\n",
        " - 클래스가 N개라면 Nx(N-1)/2개가 필요\n",
        " - 각 분류기의 훈련에 전체 훈련 세트 중 구별할 두 클래스에 해당하는 샘플만 필요"
      ],
      "metadata": {
        "id": "DYGRiz3PgZ9P"
      }
    },
    {
      "cell_type": "markdown",
      "source": [
        "**1-2) 서포트 벡터 머신 분류기 테스트** <br/>\n",
        "다중 클래스 분류 작업에 이진 분류 알고리즘을 선택하면 사이킷런이 자동으로 OvR 또는 OvO 실행"
      ],
      "metadata": {
        "id": "4biIE5s8g2Pn"
      }
    },
    {
      "cell_type": "code",
      "source": [
        "from sklearn.svm import SVC\n",
        "\n",
        "svm_clf = SVC(gamma=\"auto\", random_state=42)\n",
        "svm_clf.fit(X_train[:1000], y_train[:1000]) # y_train, not y_train_5\n",
        "svm_clf.predict([some_digit])"
      ],
      "metadata": {
        "colab": {
          "base_uri": "https://localhost:8080/"
        },
        "id": "5JF6Nnn7WOFT",
        "outputId": "3b59d64c-3e9c-46c7-d38d-74ae8f8ea549"
      },
      "execution_count": 41,
      "outputs": [
        {
          "output_type": "execute_result",
          "data": {
            "text/plain": [
              "array([5], dtype=uint8)"
            ]
          },
          "metadata": {},
          "execution_count": 41
        }
      ]
    },
    {
      "cell_type": "markdown",
      "source": [
        "- sklearn.svm.SVC 클래스를 사용\n",
        "- 5를 구별한 타깃 클래스(y_train_5) 대신 0에서 9까지의 원래 타깃 클래스(y_train)를 사용해 훈련\n",
        "- 그 후 예측을 하나 만들고, 내부에서 사이킷런이 OvO를 사용하여 10개의 이진 분류기를 훈련시키고 <br/>\n",
        "각각의 결정 점수를 얻어 점수가 가장 높은 클래스를 선택"
      ],
      "metadata": {
        "id": "cMp7KTHPhFBk"
      }
    },
    {
      "cell_type": "markdown",
      "source": [
        "**1-3) decision_function() 메서드** <br/>\n",
        "샘플 당 10개의 점수를 반환하며, 점수는 클래스마다 하나씩"
      ],
      "metadata": {
        "id": "I019lbylhVLN"
      }
    },
    {
      "cell_type": "code",
      "source": [
        "some_digit_scores = svm_clf.decision_function([some_digit])\n",
        "some_digit_scores"
      ],
      "metadata": {
        "colab": {
          "base_uri": "https://localhost:8080/"
        },
        "id": "JhJQekJdhCCO",
        "outputId": "47c24853-2038-4c35-f024-b520e932b1fd"
      },
      "execution_count": 42,
      "outputs": [
        {
          "output_type": "execute_result",
          "data": {
            "text/plain": [
              "array([[ 2.81585438,  7.09167958,  3.82972099,  0.79365551,  5.8885703 ,\n",
              "         9.29718395,  1.79862509,  8.10392157, -0.228207  ,  4.83753243]])"
            ]
          },
          "metadata": {},
          "execution_count": 42
        }
      ]
    },
    {
      "cell_type": "markdown",
      "source": [
        "- 가장 높은 점수가 클래스 5에 해당하는 값"
      ],
      "metadata": {
        "id": "bID6SmvAhdIK"
      }
    },
    {
      "cell_type": "markdown",
      "source": [
        "**2) OneVsOneClassifier나 OneVsRestClassifier** <br/>\n",
        "사이킷런에서 OvO나 OVR을 사용하도록 강제하기 위해 사용\n",
        "- 이진 분류기 인스턴스를 만들어 객체를 생성할 때 전달"
      ],
      "metadata": {
        "id": "4I7xLhD1hfY1"
      }
    },
    {
      "cell_type": "code",
      "source": [
        "# SVC 기반으로 OvR 전략을 사용하는 다중 분류기 생성\n",
        "\n",
        "from sklearn.multiclass import OneVsRestClassifier\n",
        "ovr_clf = OneVsRestClassifier(SVC(gamma=\"auto\", random_state=42))\n",
        "ovr_clf.fit(X_train[:1000], y_train[:1000])\n",
        "ovr_clf.predict([some_digit])"
      ],
      "metadata": {
        "colab": {
          "base_uri": "https://localhost:8080/"
        },
        "id": "ZR_nOiyfhcQP",
        "outputId": "af264f0f-5d2a-4a1f-8e1d-f2ecc3d4b17d"
      },
      "execution_count": 43,
      "outputs": [
        {
          "output_type": "execute_result",
          "data": {
            "text/plain": [
              "array([5], dtype=uint8)"
            ]
          },
          "metadata": {},
          "execution_count": 43
        }
      ]
    },
    {
      "cell_type": "code",
      "source": [
        "len(ovr_clf.estimators_)"
      ],
      "metadata": {
        "colab": {
          "base_uri": "https://localhost:8080/"
        },
        "id": "XE6yu_F9h0FF",
        "outputId": "c0c564f7-daf8-4b47-bf20-0bbfc73dad30"
      },
      "execution_count": 44,
      "outputs": [
        {
          "output_type": "execute_result",
          "data": {
            "text/plain": [
              "10"
            ]
          },
          "metadata": {},
          "execution_count": 44
        }
      ]
    },
    {
      "cell_type": "markdown",
      "source": [
        "**3) SGDClassifier(또는 RandomForestClassifier) 훈련**"
      ],
      "metadata": {
        "id": "0LNBBUmRh-jx"
      }
    },
    {
      "cell_type": "code",
      "source": [
        "sgd_clf.fit(X_train, y_train)\n",
        "sgd_clf.predict([some_digit])"
      ],
      "metadata": {
        "colab": {
          "base_uri": "https://localhost:8080/"
        },
        "id": "5kZjyQoXh1w0",
        "outputId": "ce982699-b597-4ff0-87f2-05e052a6fc24"
      },
      "execution_count": 45,
      "outputs": [
        {
          "output_type": "execute_result",
          "data": {
            "text/plain": [
              "array([3], dtype=uint8)"
            ]
          },
          "metadata": {},
          "execution_count": 45
        }
      ]
    },
    {
      "cell_type": "markdown",
      "source": [
        "- SGD 분류기는 직접 샘플을 다중 클래스로 분류할 수 있으므로 별도의 OvR이나 OvO 필요 X"
      ],
      "metadata": {
        "id": "nWQ-_tQph71c"
      }
    },
    {
      "cell_type": "markdown",
      "source": [
        "**3-1) SGD 분류기의 decision_function() 메서드** <br/>\n",
        "클래스마다 하나의 값을 반환하는  decision_function()으로 SGD 분류기가 클래스마다 부여한 점수 확인"
      ],
      "metadata": {
        "id": "sRk5NVaGiLcy"
      }
    },
    {
      "cell_type": "code",
      "source": [
        "sgd_clf.decision_function([some_digit])"
      ],
      "metadata": {
        "colab": {
          "base_uri": "https://localhost:8080/"
        },
        "id": "-yzmIz4Qh7Rk",
        "outputId": "08f07ff7-ef11-49ec-dc82-61ab10698cb3"
      },
      "execution_count": 46,
      "outputs": [
        {
          "output_type": "execute_result",
          "data": {
            "text/plain": [
              "array([[-31893.03095419, -34419.69069632,  -9530.63950739,\n",
              "          1823.73154031, -22320.14822878,  -1385.80478895,\n",
              "        -26188.91070951, -16147.51323997,  -4604.35491274,\n",
              "        -12050.767298  ]])"
            ]
          },
          "metadata": {},
          "execution_count": 46
        }
      ]
    },
    {
      "cell_type": "markdown",
      "source": [
        "- 분류기가 예측 결과에 강한 확신을 보이고 있음\n",
        "- 대부분의 점수가 큰 음수지만, 클래스 5의 점수가 2412.5\n",
        "- 573.5의 점수를 얻은 클래스 3을 의심"
      ],
      "metadata": {
        "id": "ByOYzoXjiX7g"
      }
    },
    {
      "cell_type": "markdown",
      "source": [
        "**3-2) 교차 검증** <br/>\n",
        "분류기 평가에는 교차 검증을 사용하며, cross_val_score() 함수 사용"
      ],
      "metadata": {
        "id": "vh2TUbEJinhr"
      }
    },
    {
      "cell_type": "code",
      "source": [
        "cross_val_score(sgd_clf, X_train, y_train, cv=3, scoring=\"accuracy\")"
      ],
      "metadata": {
        "colab": {
          "base_uri": "https://localhost:8080/"
        },
        "id": "2TzKW_9eiXVU",
        "outputId": "c1aa0ca5-f053-457c-a796-e4ae97ecd690"
      },
      "execution_count": 47,
      "outputs": [
        {
          "output_type": "execute_result",
          "data": {
            "text/plain": [
              "array([0.87365, 0.85835, 0.8689 ])"
            ]
          },
          "metadata": {},
          "execution_count": 47
        }
      ]
    },
    {
      "cell_type": "markdown",
      "source": [
        "- 모든 테스트 폴드에서 84% 이상을 얻었으므로 나쁘지 않은 점수지만 성능을 더 높일 여지가 있음"
      ],
      "metadata": {
        "id": "wYJYU9vKi62I"
      }
    },
    {
      "cell_type": "code",
      "source": [
        "from sklearn.preprocessing import StandardScaler\n",
        "scaler = StandardScaler()\n",
        "X_train_scaled = scaler.fit_transform(X_train.astype(np.float64))\n",
        "cross_val_score(sgd_clf, X_train_scaled, y_train, cv=3, scoring=\"accuracy\")"
      ],
      "metadata": {
        "colab": {
          "base_uri": "https://localhost:8080/"
        },
        "id": "msdgGg63i5KJ",
        "outputId": "df3672c3-3125-4d72-ac61-2c5deb377d45"
      },
      "execution_count": 48,
      "outputs": [
        {
          "output_type": "execute_result",
          "data": {
            "text/plain": [
              "array([0.8983, 0.891 , 0.9018])"
            ]
          },
          "metadata": {},
          "execution_count": 48
        }
      ]
    },
    {
      "cell_type": "markdown",
      "source": [
        "- 입력의 스케일을 조정하여 정확도를 89% 이상으로 높임"
      ],
      "metadata": {
        "id": "2h6AKgSmjCLS"
      }
    },
    {
      "cell_type": "markdown",
      "source": [
        "#### **3.5 에러 분석** <br/>\n",
        "데이터 준비 단계에서 가능한 선택 사항을 탐색하고, 여러 모델을 시도하고, <br/>\n",
        "가장 좋은 몇 개를 골라 GridSearchCV를 사용해 하이퍼파라미터를 세밀하게 튜닝하고 가능한 자동화 진행\n",
        "- 가능성이 높은 모델을 하나 찾았다는 가정 하에 모델의 성능 향상시킬 수 있는 방법에 대해 다룰 예정"
      ],
      "metadata": {
        "id": "CJBaoSOUjG-a"
      }
    },
    {
      "cell_type": "markdown",
      "source": [
        "**1) 오차 행렬** <br/>\n",
        "만들어진 에러의 종류 분석하기 위해 오차 행렬을 살펴볼 수 있음\n",
        "- cross_val_predict() 함수를 사용해 예측을 만들고 이전처럼 confusion_matrix() 함수 호출"
      ],
      "metadata": {
        "id": "ZyUd4LZ1jle3"
      }
    },
    {
      "cell_type": "code",
      "source": [
        "y_train_pred = cross_val_predict(sgd_clf, X_train_scaled, y_train, cv=3)\n",
        "conf_mx = confusion_matrix(y_train, y_train_pred)\n",
        "conf_mx"
      ],
      "metadata": {
        "colab": {
          "base_uri": "https://localhost:8080/"
        },
        "id": "vRacf8Z3jB0c",
        "outputId": "04a446bc-4f93-49d9-9ce6-8aa6bad7d00d"
      },
      "execution_count": 49,
      "outputs": [
        {
          "output_type": "execute_result",
          "data": {
            "text/plain": [
              "array([[5577,    0,   22,    5,    8,   43,   36,    6,  225,    1],\n",
              "       [   0, 6400,   37,   24,    4,   44,    4,    7,  212,   10],\n",
              "       [  27,   27, 5220,   92,   73,   27,   67,   36,  378,   11],\n",
              "       [  22,   17,  117, 5227,    2,  203,   27,   40,  403,   73],\n",
              "       [  12,   14,   41,    9, 5182,   12,   34,   27,  347,  164],\n",
              "       [  27,   15,   30,  168,   53, 4444,   75,   14,  535,   60],\n",
              "       [  30,   15,   42,    3,   44,   97, 5552,    3,  131,    1],\n",
              "       [  21,   10,   51,   30,   49,   12,    3, 5684,  195,  210],\n",
              "       [  17,   63,   48,   86,    3,  126,   25,   10, 5429,   44],\n",
              "       [  25,   18,   30,   64,  118,   36,    1,  179,  371, 5107]])"
            ]
          },
          "metadata": {},
          "execution_count": 49
        }
      ]
    },
    {
      "cell_type": "markdown",
      "source": [
        "**1-1) matshow() 함수** <br/>\n",
        "오차 행렬을 맷플롯립의 matshow() 함수를 사용해 이미지로 표현하면 보기에 편리할 때가 많음"
      ],
      "metadata": {
        "id": "iyegnEcakksI"
      }
    },
    {
      "cell_type": "code",
      "source": [
        "# since sklearn 0.22, you can use sklearn.metrics.plot_confusion_matrix()\n",
        "def plot_confusion_matrix(matrix):\n",
        "    \"\"\"If you prefer color and a colorbar\"\"\"\n",
        "    fig = plt.figure(figsize=(8,8))\n",
        "    ax = fig.add_subplot(111)\n",
        "    cax = ax.matshow(matrix)\n",
        "    fig.colorbar(cax)"
      ],
      "metadata": {
        "id": "4zbmgXwRjuAZ"
      },
      "execution_count": 50,
      "outputs": []
    },
    {
      "cell_type": "code",
      "source": [
        "plt.matshow(conf_mx, cmap=plt.cm.gray)\n",
        "save_fig(\"confusion_matrix_plot\", tight_layout=False)\n",
        "plt.show()"
      ],
      "metadata": {
        "colab": {
          "base_uri": "https://localhost:8080/",
          "height": 296
        },
        "id": "mHk-gRRTj4a3",
        "outputId": "77c373d5-8821-48e5-de46-954d2be5d91a"
      },
      "execution_count": 51,
      "outputs": [
        {
          "output_type": "stream",
          "name": "stdout",
          "text": [
            "Saving figure confusion_matrix_plot\n"
          ]
        },
        {
          "output_type": "display_data",
          "data": {
            "text/plain": [
              "<Figure size 288x288 with 1 Axes>"
            ],
            "image/png": "[encoded data removed]"
          },
          "metadata": {
            "needs_background": "light"
          }
        }
      ]
    },
    {
      "cell_type": "markdown",
      "source": [
        "- 대부분의 이미지가 올바르게 분류되었음을 나타내는 주대각선에 있으므로 매우 좋아 보임\n",
        "- 숫자 5가 다른 숫자보다 어두워보이는 이유는 숫자 5의 이미지가 적거나, <br/>\n",
        "분류기가 숫자 5를 다른 숫자만큼 잘 분류하지 못한다는 뜻"
      ],
      "metadata": {
        "id": "KPi-GfJ-j8BZ"
      }
    },
    {
      "cell_type": "markdown",
      "source": [
        "**1-2) 그래프의 에러** <br/>\n",
        "오차 행렬의 각 값에 대응되는 클래스 이미지 개수로 나누어 에러 비율을 비교\n",
        "- 에러의 절대 개수가 아닌 비율을 비교\n",
        "- 개수로 비교할 경우 이미지가 많은 클래스가 상대적으로 나쁘게 보임"
      ],
      "metadata": {
        "id": "25-QA2GskPSh"
      }
    },
    {
      "cell_type": "code",
      "source": [
        "row_sums = conf_mx.sum(axis=1, keepdims=True)\n",
        "norm_conf_mx = conf_mx / row_sums"
      ],
      "metadata": {
        "id": "i87Mt2Wfj7Eb"
      },
      "execution_count": 52,
      "outputs": []
    },
    {
      "cell_type": "markdown",
      "source": [
        "**1-3) 분류기가 만든 에러 확인** <br/>\n",
        "다른 항목은 그대로 유지하고 주대각선을 0으로 채워 그래프 그려서 확인\n",
        "- 행은 실제 클래스를 나타내고 열은 예측한 클래스를 나타냄"
      ],
      "metadata": {
        "id": "4UTSx6QIk2qF"
      }
    },
    {
      "cell_type": "code",
      "source": [
        "np.fill_diagonal(norm_conf_mx, 0)\n",
        "plt.matshow(norm_conf_mx, cmap=plt.cm.gray)\n",
        "save_fig(\"confusion_matrix_errors_plot\", tight_layout=False)\n",
        "plt.show()"
      ],
      "metadata": {
        "colab": {
          "base_uri": "https://localhost:8080/",
          "height": 296
        },
        "id": "nB22o0W0lRFV",
        "outputId": "ccece213-7748-4713-f931-5b2dedb9cce1"
      },
      "execution_count": 53,
      "outputs": [
        {
          "output_type": "stream",
          "name": "stdout",
          "text": [
            "Saving figure confusion_matrix_errors_plot\n"
          ]
        },
        {
          "output_type": "display_data",
          "data": {
            "text/plain": [
              "<Figure size 288x288 with 1 Axes>"
            ],
            "image/png": "[encoded data removed]"
          },
          "metadata": {
            "needs_background": "light"
          }
        }
      ]
    },
    {
      "cell_type": "markdown",
      "source": [
        "- 클래스 8의 열이 상당히 밝으므로 많은 이미지가 8로 잘못 분류 되었음을 암시\n",
        "- 그러나 클래스 8의 행은 그렇게 나쁘지 않으므로, 실제 8은 적절히 8로 분류되었음\n",
        "- 오차 행렬이 반드시 대칭인 것은 아니며, 3과 5가 서로 많이 혼동되고 있는 것도 볼 수 있음"
      ],
      "metadata": {
        "id": "4LGJbQt7lCqr"
      }
    },
    {
      "cell_type": "markdown",
      "source": [
        "**2) 분류기의 성능 향상 방안** <br/>\n",
        "오차 행렬을 분석시 분류기의 성능 향상 방안에 대한 통찰을 얻을 수 있음\n",
        "- 8로 잘못 분류되는 것을 개선할 필요성이 있음을 확인\n",
        "- 8처럼 보이는 숫자의 훈련 데이터를 더 많이 모아서 실제 8과 구분하도록 분류기를 학습시킬 수 있음\n",
        "- 또한 분류기에 도움이 될만한 특성을 더 찾아볼 수 있음\n",
        " - 동심원의 수를 세는 알고리즘\n",
        " - 동심원 같은 어떤 패턴이 드러나도록 이미지 전처리"
      ],
      "metadata": {
        "id": "h3JDfiQ1lVmV"
      }
    },
    {
      "cell_type": "markdown",
      "source": [
        "**3) 개개의 에러 분석** <br/>\n",
        "분류기가 무슨 일을 하고, 왜 잘못되었는지에 대한 통찰을 얻을 수 있으나 더 어렵고 시간이 오래 걸림"
      ],
      "metadata": {
        "id": "GadAF44FlsbR"
      }
    },
    {
      "cell_type": "code",
      "source": [
        "# EXTRA\n",
        "def plot_digits(instances, images_per_row=10, **options):\n",
        "    size = 28\n",
        "    images_per_row = min(len(instances), images_per_row)\n",
        "    # This is equivalent to n_rows = ceil(len(instances) / images_per_row):\n",
        "    n_rows = (len(instances) - 1) // images_per_row + 1\n",
        "\n",
        "    # Append empty images to fill the end of the grid, if needed:\n",
        "    n_empty = n_rows * images_per_row - len(instances)\n",
        "    padded_instances = np.concatenate([instances, np.zeros((n_empty, size * size))], axis=0)\n",
        "\n",
        "    # Reshape the array so it's organized as a grid containing 28×28 images:\n",
        "    image_grid = padded_instances.reshape((n_rows, images_per_row, size, size))\n",
        "\n",
        "    # Combine axes 0 and 2 (vertical image grid axis, and vertical image axis),\n",
        "    # and axes 1 and 3 (horizontal axes). We first need to move the axes that we\n",
        "    # want to combine next to each other, using transpose(), and only then we\n",
        "    # can reshape:\n",
        "    big_image = image_grid.transpose(0, 2, 1, 3).reshape(n_rows * size,\n",
        "                                                         images_per_row * size)\n",
        "    # Now that we have a big image, we just need to show it:\n",
        "    plt.imshow(big_image, cmap = mpl.cm.binary, **options)\n",
        "    plt.axis(\"off\")"
      ],
      "metadata": {
        "id": "vDHXiyfGuPWZ"
      },
      "execution_count": 55,
      "outputs": []
    },
    {
      "cell_type": "code",
      "source": [
        "cl_a, cl_b = 3, 5\n",
        "X_aa = X_train[(y_train == cl_a) & (y_train_pred == cl_a)]\n",
        "X_ab = X_train[(y_train == cl_a) & (y_train_pred == cl_b)]\n",
        "X_ba = X_train[(y_train == cl_b) & (y_train_pred == cl_a)]\n",
        "X_bb = X_train[(y_train == cl_b) & (y_train_pred == cl_b)]\n",
        "\n",
        "plt.figure(figsize=(8,8))\n",
        "plt.subplot(221); plot_digits(X_aa[:25], images_per_row=5)\n",
        "plt.subplot(222); plot_digits(X_ab[:25], images_per_row=5)\n",
        "plt.subplot(223); plot_digits(X_ba[:25], images_per_row=5)\n",
        "plt.subplot(224); plot_digits(X_bb[:25], images_per_row=5)\n",
        "save_fig(\"error_analysis_digits_plot\")\n",
        "plt.show()"
      ],
      "metadata": {
        "colab": {
          "base_uri": "https://localhost:8080/",
          "height": 603
        },
        "id": "aa3EJ5smkzYp",
        "outputId": "2b8c9c0a-a81b-4234-9676-2e31b8d51def"
      },
      "execution_count": 56,
      "outputs": [
        {
          "output_type": "stream",
          "name": "stdout",
          "text": [
            "Saving figure error_analysis_digits_plot\n"
          ]
        },
        {
          "output_type": "display_data",
          "data": {
            "text/plain": [
              "<Figure size 576x576 with 4 Axes>"
            ],
            "image/png": "[encoded data removed]"
          },
          "metadata": {
            "needs_background": "light"
          }
        }
      ]
    },
    {
      "cell_type": "markdown",
      "source": [
        "- 왼쪽의 5x5 블록 두 개는 3으로 분류된 이미지가 오른쪽 5x5 블록 두개는 5로 분류된 이미지\n",
        "- 분류기가 잘못 분류한 숫자 중 일부는 잘못 쓰여져 있어 사람도 분류하기 어려워 보임\n",
        "- 대부분의 잘못 분류된 이미지는 확실히 에러이며 분류기가 실수한 이유를 이해하기 어려움"
      ],
      "metadata": {
        "id": "QJLxgdw3l08W"
      }
    },
    {
      "cell_type": "markdown",
      "source": [
        "**3-1) 오분류의 원인** <Br/>\n",
        "원인은 선형 모델을 SGDClassifier을 사용했기 때문\n",
        " - 선형 분류기는 클래스마다 픽셀에 가중치를 할당하고, <Br/>\n",
        "  새로운 이미지에 대해 단순히 픽셀 강도의 가중치 합을 클래스의 점수로 계산\n",
        " - 3과 5는 몇 개의 픽셀만 다르기 때문에 모델이 쉽게 혼동하게 됨"
      ],
      "metadata": {
        "id": "7ChwFJbDmKWc"
      }
    },
    {
      "cell_type": "markdown",
      "source": [
        "**3-2) 오분류 해결방법** <br/>\n",
        "분류기는 이미지의 위치나 회전 방향에 매우 민감함\n",
        " - 3과 5의 주요 차이는 위쪽 선과 아래쪽 호를 이어주는 작은 직선의 위치\n",
        " - 숫자 3을 쓸 때 연결 부위가 조금 왼쪽으로 치우치면 분류기가 5로 분류하고, 반대도 마찬가지\n",
        " - 이미지를 중앙에 위치시키고 회전되어 있지 않도록 전처리하는 것을 권장"
      ],
      "metadata": {
        "id": "lRQ8J2QGmdNu"
      }
    },
    {
      "cell_type": "markdown",
      "source": [
        "#### **3.6 다중 레이블 분류** <br/>\n",
        "분류기가 샘플마다 여러 개의 클래스를 출력해야할 때가 존재\n",
        "- 여러 개의 이진 꼬리표를 출력하는 분류 시스템을 다중 레이블 분류라고 부름\n",
        "- ex. 얼굴 인식 분류기"
      ],
      "metadata": {
        "id": "RrgaaViVmvMC"
      }
    },
    {
      "cell_type": "markdown",
      "source": [
        "**1) y_multilabel 배열 생성** <br/>\n",
        "각 숫자 이미지에 두 개의 타깃 레이블이 담긴 y_multilabel 생성\n",
        "- 첫 번째는 숫자가 큰 값 (7,8,9)인지 나타내고 두 번째는 홀수인지 나타냄"
      ],
      "metadata": {
        "id": "GW7ulC3wm96r"
      }
    },
    {
      "cell_type": "code",
      "source": [
        "from sklearn.neighbors import KNeighborsClassifier\n",
        "\n",
        "y_train_large = (y_train >= 7)\n",
        "y_train_odd = (y_train % 2 == 1)\n",
        "y_multilabel = np.c_[y_train_large, y_train_odd]"
      ],
      "metadata": {
        "id": "gXz5uD3ol0Kh"
      },
      "execution_count": 58,
      "outputs": []
    },
    {
      "cell_type": "markdown",
      "source": [
        "**2) 인스턴스를 만든 후 예측** <br/>\n",
        "KNeighborsClassifier 인스턴스를 만들고 다중 타깃 배열을 사용하여 훈련시킴\n",
        "- 레이블이 두개 출력됨"
      ],
      "metadata": {
        "id": "II29iyoiunCW"
      }
    },
    {
      "cell_type": "code",
      "source": [
        "knn_clf = KNeighborsClassifier()\n",
        "knn_clf.fit(X_train, y_multilabel)\n",
        "\n",
        "knn_clf.predict([some_digit])"
      ],
      "metadata": {
        "colab": {
          "base_uri": "https://localhost:8080/"
        },
        "id": "nbQkJk8puiV2",
        "outputId": "a88b3be6-920e-4345-f38b-14cf840ef432"
      },
      "execution_count": 59,
      "outputs": [
        {
          "output_type": "execute_result",
          "data": {
            "text/plain": [
              "array([[False,  True]])"
            ]
          },
          "metadata": {},
          "execution_count": 59
        }
      ]
    },
    {
      "cell_type": "markdown",
      "source": [
        "- 올바르게 분류 됨\n",
        "- 숫자 5는 크지 않고(False) 홀수(True)임"
      ],
      "metadata": {
        "id": "E9C7uOO2u10I"
      }
    },
    {
      "cell_type": "markdown",
      "source": [
        "**3) 다중 레이블 분류기 평가** <br/>\n",
        "다중 레이블 분류기를 평가하는 방법은 많으며, 적절한 지표는 프로젝트에 따라 다름"
      ],
      "metadata": {
        "id": "YHeuCUUHu-kL"
      }
    },
    {
      "cell_type": "markdown",
      "source": [
        "**3-1) F1 점수** <br/>\n",
        "각 레이블의 F1 점수를 구하고 간단하게 평균 점수를 계산"
      ],
      "metadata": {
        "id": "-uY1hmgOvFEp"
      }
    },
    {
      "cell_type": "code",
      "source": [
        "y_train_knn_pred = cross_val_predict(knn_clf, X_train, y_multilabel, cv=3)\n",
        "f1_score(y_multilabel, y_train_knn_pred, average=\"macro\")"
      ],
      "metadata": {
        "colab": {
          "base_uri": "https://localhost:8080/"
        },
        "id": "DwNh57luu0hL",
        "outputId": "5d3c53b6-7609-4809-c8e8-6fad2a300ee0"
      },
      "execution_count": 60,
      "outputs": [
        {
          "output_type": "execute_result",
          "data": {
            "text/plain": [
              "0.976410265560605"
            ]
          },
          "metadata": {},
          "execution_count": 60
        }
      ]
    },
    {
      "cell_type": "markdown",
      "source": [
        "- 실제로는 아닐 수 있지만 모든 레이블의 가중치가 같다고 가정"
      ],
      "metadata": {
        "id": "3WBlHrQ_vMG6"
      }
    },
    {
      "cell_type": "markdown",
      "source": [
        "**3-2) 가중치** <br/>\n",
        "레이블에 클래스의 지지도(타깃 레이블에 속한 샘플 수)를 가중치를 줄 수 있음\n",
        "- average=\"weighted\"로 설정"
      ],
      "metadata": {
        "id": "2P7FZCFyveEH"
      }
    },
    {
      "cell_type": "markdown",
      "source": [
        "#### **3.7 다중 출력 분류** <br/>\n",
        "다중 레이블 분류에서 한 레이블이 다중 클래스가 될 수 있도록 일반화\n",
        "- 값을 두 개 이상 가질 수 있음"
      ],
      "metadata": {
        "id": "b4YnmFYcvkaE"
      }
    },
    {
      "cell_type": "markdown",
      "source": [
        "**1) 다중 출력 분류 시스템의 예시** <br/>\n",
        "이미지에서 잡음을 제거하는 시스템이 다중 출력 다중 클래스 분류 중 하나\n",
        "- 잡음이 많은 숫자 이미지를 입력으로 받고, 깨끗한 숫자 이미지를 픽셀의 강도를 담은 배열로 출력\n",
        "- 분류기의 출력이 다중 레이블(픽셀당 한 레이블)이고 각 레이블은 값을 여러 개 가짐(0부터 255까지 픽셀 강도)"
      ],
      "metadata": {
        "id": "mMTLKsAxvsUV"
      }
    },
    {
      "cell_type": "markdown",
      "source": [
        "**2) 픽셀 강도에 잡음 추가** <br/>\n",
        "MNIST 이미지에서 추출한 훈련 세트와 테스트 세트에 넘파이의 randint() 함수를 사용\n",
        "- 타깃 이미지는 원본 이미지"
      ],
      "metadata": {
        "id": "01S9Sx5sv7KG"
      }
    },
    {
      "cell_type": "code",
      "source": [
        "noise = np.random.randint(0, 100, (len(X_train), 784))\n",
        "X_train_mod = X_train + noise\n",
        "noise = np.random.randint(0, 100, (len(X_test), 784))\n",
        "X_test_mod = X_test + noise\n",
        "y_train_mod = X_train\n",
        "y_test_mod = X_test"
      ],
      "metadata": {
        "id": "NnCts8dvvLiA"
      },
      "execution_count": 61,
      "outputs": []
    },
    {
      "cell_type": "markdown",
      "source": [
        "**3) 분류기 훈련 후 이미지 잡음 제거** <Br/>\n",
        "테스트 세트에서 이미지를 하나 선택한 후 분류기를 훈련시켜 이미지를 깨끗하게 만듦"
      ],
      "metadata": {
        "id": "-dbCzro-wXOi"
      }
    },
    {
      "cell_type": "code",
      "source": [
        "def plot_digit(data):\n",
        "    image = data.reshape(28, 28)\n",
        "    plt.imshow(image, cmap = mpl.cm.binary,\n",
        "               interpolation=\"nearest\")\n",
        "    plt.axis(\"off\")"
      ],
      "metadata": {
        "id": "SKQ-XDqawp6h"
      },
      "execution_count": 63,
      "outputs": []
    },
    {
      "cell_type": "code",
      "source": [
        "some_index = 0\n",
        "plt.subplot(121); plot_digit(X_test_mod[some_index])\n",
        "plt.subplot(122); plot_digit(y_test_mod[some_index])\n",
        "save_fig(\"noisy_digit_example_plot\")\n",
        "plt.show()"
      ],
      "metadata": {
        "colab": {
          "base_uri": "https://localhost:8080/",
          "height": 249
        },
        "id": "C7xv7eXIwjMi",
        "outputId": "b1dfb122-b926-44ca-ad13-bb5c93fc8882"
      },
      "execution_count": 64,
      "outputs": [
        {
          "output_type": "stream",
          "name": "stdout",
          "text": [
            "Saving figure noisy_digit_example_plot\n"
          ]
        },
        {
          "output_type": "display_data",
          "data": {
            "text/plain": [
              "<Figure size 432x288 with 2 Axes>"
            ],
            "image/png": "[encoded data removed]"
          },
          "metadata": {
            "needs_background": "light"
          }
        }
      ]
    },
    {
      "cell_type": "markdown",
      "source": [
        "- 왼쪽은 잡음이 섞인 입력 이미지며, 오른쪽이 깨끗한 타깃 이미지"
      ],
      "metadata": {
        "id": "5DfwkelUwr5m"
      }
    },
    {
      "cell_type": "code",
      "source": [
        "knn_clf.fit(X_train_mod, y_train_mod)\n",
        "clean_digit = knn_clf.predict([X_test_mod[some_index]])\n",
        "plot_digit(clean_digit)\n",
        "save_fig(\"cleaned_digit_example_plot\")"
      ],
      "metadata": {
        "colab": {
          "base_uri": "https://localhost:8080/",
          "height": 315
        },
        "id": "KlEa9EZJwvl0",
        "outputId": "cf24094d-5035-440a-f492-639b55294255"
      },
      "execution_count": 65,
      "outputs": [
        {
          "output_type": "stream",
          "name": "stdout",
          "text": [
            "Saving figure cleaned_digit_example_plot\n"
          ]
        },
        {
          "output_type": "display_data",
          "data": {
            "text/plain": [
              "<Figure size 432x288 with 1 Axes>"
            ],
            "image/png": "[encoded data removed]"
          },
          "metadata": {
            "needs_background": "light"
          }
        }
      ]
    },
    {
      "cell_type": "markdown",
      "source": [
        "- 타깃과 매우 비슷한 결과 도출"
      ],
      "metadata": {
        "id": "pA1kq3dpwy5G"
      }
    }
  ]
}